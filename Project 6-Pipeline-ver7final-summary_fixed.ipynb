{
 "cells": [
  {
   "cell_type": "markdown",
   "metadata": {},
   "source": [
    "# Project 6: I mammiferi depongolo le uova ?"
   ]
  },
  {
   "cell_type": "markdown",
   "metadata": {},
   "source": [
    "I dataset Zoo fornisce una serie di dati relativi a diverse specie animali al fine di classificarle in 7 diverse\n",
    "classi, ovvero mammiferi, uccelli, rettili, pesci, anfibi, insetti e invertebrati.\n",
    "\n",
    "Seguendo un approccio non supervisionato, ovvero senza osservare la classe di ogni specie animale, il\n",
    "progetto mira a confrontare le diverse specie e raggruparle utilizzando diversi algoritmi di clustering.\n",
    "\n",
    "Confrontando poi il risultato di ogni algoritmo, si intende mostrare quale algoritmo di clustering approssimi\n",
    "meglio le classi fornite dal dataset.\n",
    "\n",
    "Si richiede pertanto non solo di definire una metodologia per confrontare i risulati del clustering con la\n",
    "classificazione attesa, ma anche di descrivere in modo sintetico le caratteristiche distintive di ciascun cluster\n",
    "di specie prodotto dall'algoritmo oggetto della valutazione.\n",
    "\n",
    "https://www.kaggle.com/uciml/zoo-animal-classification"
   ]
  },
  {
   "cell_type": "markdown",
   "metadata": {},
   "source": [
    "## Summary\n",
    "\n",
    "- Import Python Classes - importazione delle classi Python, SKLearn per il preprocessing dei dati e la computazione di ML e Matplotlib\n",
    "\n",
    "- Import Data - importazione dei csv files riguardanti i dataset zoo e classes\n",
    "\n",
    "- Dataset Exploration - esplorazione dei dataset importati\n",
    "\n",
    "- Pipeline - definiamo una pipeline a tre stadi in cui eseguire: preprocessing, feat. trasformation del dataset zoo e clustering con uno degli algoritmi definiti\n",
    "  - Preprocessing - processiamo i dati del dataset zoo\n",
    "  - Features Transformation - trasformazione delle features del dataset zoo\n",
    "  - Clustering - applicazione di un algoritmo di clustering sul dataset\n",
    "  \n",
    "- Pipeline Execution - eseguiamo la Pipeline sul dataset zoo e collezioniamo i risultati in un oggetto Evaluation\n",
    "\n",
    "- View Results - mostriamo i risultati ottenuti"
   ]
  },
  {
   "cell_type": "markdown",
   "metadata": {},
   "source": [
    "---"
   ]
  },
  {
   "cell_type": "markdown",
   "metadata": {},
   "source": [
    "## Import Python classes"
   ]
  },
  {
   "cell_type": "code",
   "execution_count": 1,
   "metadata": {},
   "outputs": [],
   "source": [
    "# Base libraries\n",
    "import pandas as pd\n",
    "import numpy as np\n",
    "\n",
    "#Additional libraries\n",
    "from tabulate import tabulate"
   ]
  },
  {
   "cell_type": "code",
   "execution_count": 2,
   "metadata": {},
   "outputs": [],
   "source": [
    "#Preprocess Transform libraries\n",
    "from sklearn import preprocessing as p\n",
    "from sklearn.preprocessing import StandardScaler\n",
    "from sklearn.preprocessing import MinMaxScaler\n",
    "from sklearn.preprocessing import OneHotEncoder\n",
    "from sklearn.decomposition import PCA"
   ]
  },
  {
   "cell_type": "code",
   "execution_count": 3,
   "metadata": {},
   "outputs": [],
   "source": [
    "#ML libraries\n",
    "from sklearn.cluster import KMeans\n",
    "from sklearn.cluster import DBSCAN\n",
    "from sklearn.cluster import AgglomerativeClustering\n",
    "from sklearn.cluster import AffinityPropagation"
   ]
  },
  {
   "cell_type": "code",
   "execution_count": 4,
   "metadata": {},
   "outputs": [],
   "source": [
    "#ML Metrics\n",
    "from sklearn.metrics import adjusted_rand_score\n",
    "from sklearn.metrics import silhouette_score"
   ]
  },
  {
   "cell_type": "code",
   "execution_count": 5,
   "metadata": {},
   "outputs": [],
   "source": [
    "#Pipeline library\n",
    "from sklearn.base import BaseEstimator\n",
    "from sklearn.base import TransformerMixin\n",
    "from sklearn.base import ClusterMixin\n",
    "from sklearn.pipeline import Pipeline\n",
    "from sklearn import set_config"
   ]
  },
  {
   "cell_type": "code",
   "execution_count": 6,
   "metadata": {},
   "outputs": [],
   "source": [
    "#Graphic libraries\n",
    "import matplotlib.pyplot as plt\n",
    "import seaborn as sns\n",
    "%matplotlib inline "
   ]
  },
  {
   "cell_type": "markdown",
   "metadata": {},
   "source": [
    "---"
   ]
  },
  {
   "cell_type": "markdown",
   "metadata": {},
   "source": [
    "## Import Data"
   ]
  },
  {
   "cell_type": "markdown",
   "metadata": {},
   "source": [
    "- import zoo data\n",
    "- import classes data"
   ]
  },
  {
   "cell_type": "code",
   "execution_count": 7,
   "metadata": {},
   "outputs": [],
   "source": [
    "zoo = pd.read_csv('./data/zoo.csv')\n",
    "classes = pd.read_csv('./data/class.csv')"
   ]
  },
  {
   "cell_type": "markdown",
   "metadata": {},
   "source": [
    "---"
   ]
  },
  {
   "cell_type": "markdown",
   "metadata": {},
   "source": [
    "## Dataset Exploration"
   ]
  },
  {
   "cell_type": "markdown",
   "metadata": {},
   "source": [
    "- check dataframe shape\n",
    "- check dataframe columns\n",
    "- check dataframe contents\n",
    "- check dataframe stats\n",
    "- assess missing data\n",
    "- assess outliers data"
   ]
  },
  {
   "cell_type": "markdown",
   "metadata": {},
   "source": [
    "### Zoo Dataframe"
   ]
  },
  {
   "cell_type": "code",
   "execution_count": 8,
   "metadata": {},
   "outputs": [
    {
     "name": "stdout",
     "output_type": "stream",
     "text": [
      "(101, 18)\n"
     ]
    }
   ],
   "source": [
    "print(zoo.shape)"
   ]
  },
  {
   "cell_type": "code",
   "execution_count": 9,
   "metadata": {},
   "outputs": [
    {
     "name": "stdout",
     "output_type": "stream",
     "text": [
      "Index(['animal_name', 'hair', 'feathers', 'eggs', 'milk', 'airborne',\n",
      "       'aquatic', 'predator', 'toothed', 'backbone', 'breathes', 'venomous',\n",
      "       'fins', 'legs', 'tail', 'domestic', 'catsize', 'class_type'],\n",
      "      dtype='object')\n"
     ]
    }
   ],
   "source": [
    "print(zoo.columns)"
   ]
  },
  {
   "cell_type": "code",
   "execution_count": 10,
   "metadata": {},
   "outputs": [
    {
     "data": {
      "text/html": [
       "<div>\n",
       "<style scoped>\n",
       "    .dataframe tbody tr th:only-of-type {\n",
       "        vertical-align: middle;\n",
       "    }\n",
       "\n",
       "    .dataframe tbody tr th {\n",
       "        vertical-align: top;\n",
       "    }\n",
       "\n",
       "    .dataframe thead th {\n",
       "        text-align: right;\n",
       "    }\n",
       "</style>\n",
       "<table border=\"1\" class=\"dataframe\">\n",
       "  <thead>\n",
       "    <tr style=\"text-align: right;\">\n",
       "      <th></th>\n",
       "      <th>animal_name</th>\n",
       "      <th>hair</th>\n",
       "      <th>feathers</th>\n",
       "      <th>eggs</th>\n",
       "      <th>milk</th>\n",
       "      <th>airborne</th>\n",
       "      <th>aquatic</th>\n",
       "      <th>predator</th>\n",
       "      <th>toothed</th>\n",
       "      <th>backbone</th>\n",
       "      <th>breathes</th>\n",
       "      <th>venomous</th>\n",
       "      <th>fins</th>\n",
       "      <th>legs</th>\n",
       "      <th>tail</th>\n",
       "      <th>domestic</th>\n",
       "      <th>catsize</th>\n",
       "      <th>class_type</th>\n",
       "    </tr>\n",
       "  </thead>\n",
       "  <tbody>\n",
       "    <tr>\n",
       "      <th>0</th>\n",
       "      <td>aardvark</td>\n",
       "      <td>1</td>\n",
       "      <td>0</td>\n",
       "      <td>0</td>\n",
       "      <td>1</td>\n",
       "      <td>0</td>\n",
       "      <td>0</td>\n",
       "      <td>1</td>\n",
       "      <td>1</td>\n",
       "      <td>1</td>\n",
       "      <td>1</td>\n",
       "      <td>0</td>\n",
       "      <td>0</td>\n",
       "      <td>4</td>\n",
       "      <td>0</td>\n",
       "      <td>0</td>\n",
       "      <td>1</td>\n",
       "      <td>1</td>\n",
       "    </tr>\n",
       "    <tr>\n",
       "      <th>1</th>\n",
       "      <td>antelope</td>\n",
       "      <td>1</td>\n",
       "      <td>0</td>\n",
       "      <td>0</td>\n",
       "      <td>1</td>\n",
       "      <td>0</td>\n",
       "      <td>0</td>\n",
       "      <td>0</td>\n",
       "      <td>1</td>\n",
       "      <td>1</td>\n",
       "      <td>1</td>\n",
       "      <td>0</td>\n",
       "      <td>0</td>\n",
       "      <td>4</td>\n",
       "      <td>1</td>\n",
       "      <td>0</td>\n",
       "      <td>1</td>\n",
       "      <td>1</td>\n",
       "    </tr>\n",
       "    <tr>\n",
       "      <th>2</th>\n",
       "      <td>bass</td>\n",
       "      <td>0</td>\n",
       "      <td>0</td>\n",
       "      <td>1</td>\n",
       "      <td>0</td>\n",
       "      <td>0</td>\n",
       "      <td>1</td>\n",
       "      <td>1</td>\n",
       "      <td>1</td>\n",
       "      <td>1</td>\n",
       "      <td>0</td>\n",
       "      <td>0</td>\n",
       "      <td>1</td>\n",
       "      <td>0</td>\n",
       "      <td>1</td>\n",
       "      <td>0</td>\n",
       "      <td>0</td>\n",
       "      <td>4</td>\n",
       "    </tr>\n",
       "    <tr>\n",
       "      <th>3</th>\n",
       "      <td>bear</td>\n",
       "      <td>1</td>\n",
       "      <td>0</td>\n",
       "      <td>0</td>\n",
       "      <td>1</td>\n",
       "      <td>0</td>\n",
       "      <td>0</td>\n",
       "      <td>1</td>\n",
       "      <td>1</td>\n",
       "      <td>1</td>\n",
       "      <td>1</td>\n",
       "      <td>0</td>\n",
       "      <td>0</td>\n",
       "      <td>4</td>\n",
       "      <td>0</td>\n",
       "      <td>0</td>\n",
       "      <td>1</td>\n",
       "      <td>1</td>\n",
       "    </tr>\n",
       "    <tr>\n",
       "      <th>4</th>\n",
       "      <td>boar</td>\n",
       "      <td>1</td>\n",
       "      <td>0</td>\n",
       "      <td>0</td>\n",
       "      <td>1</td>\n",
       "      <td>0</td>\n",
       "      <td>0</td>\n",
       "      <td>1</td>\n",
       "      <td>1</td>\n",
       "      <td>1</td>\n",
       "      <td>1</td>\n",
       "      <td>0</td>\n",
       "      <td>0</td>\n",
       "      <td>4</td>\n",
       "      <td>1</td>\n",
       "      <td>0</td>\n",
       "      <td>1</td>\n",
       "      <td>1</td>\n",
       "    </tr>\n",
       "  </tbody>\n",
       "</table>\n",
       "</div>"
      ],
      "text/plain": [
       "  animal_name  hair  feathers  eggs  milk  airborne  aquatic  predator  \\\n",
       "0    aardvark     1         0     0     1         0        0         1   \n",
       "1    antelope     1         0     0     1         0        0         0   \n",
       "2        bass     0         0     1     0         0        1         1   \n",
       "3        bear     1         0     0     1         0        0         1   \n",
       "4        boar     1         0     0     1         0        0         1   \n",
       "\n",
       "   toothed  backbone  breathes  venomous  fins  legs  tail  domestic  catsize  \\\n",
       "0        1         1         1         0     0     4     0         0        1   \n",
       "1        1         1         1         0     0     4     1         0        1   \n",
       "2        1         1         0         0     1     0     1         0        0   \n",
       "3        1         1         1         0     0     4     0         0        1   \n",
       "4        1         1         1         0     0     4     1         0        1   \n",
       "\n",
       "   class_type  \n",
       "0           1  \n",
       "1           1  \n",
       "2           4  \n",
       "3           1  \n",
       "4           1  "
      ]
     },
     "execution_count": 10,
     "metadata": {},
     "output_type": "execute_result"
    }
   ],
   "source": [
    "zoo.head()"
   ]
  },
  {
   "cell_type": "code",
   "execution_count": 11,
   "metadata": {},
   "outputs": [
    {
     "data": {
      "text/html": [
       "<div>\n",
       "<style scoped>\n",
       "    .dataframe tbody tr th:only-of-type {\n",
       "        vertical-align: middle;\n",
       "    }\n",
       "\n",
       "    .dataframe tbody tr th {\n",
       "        vertical-align: top;\n",
       "    }\n",
       "\n",
       "    .dataframe thead th {\n",
       "        text-align: right;\n",
       "    }\n",
       "</style>\n",
       "<table border=\"1\" class=\"dataframe\">\n",
       "  <thead>\n",
       "    <tr style=\"text-align: right;\">\n",
       "      <th></th>\n",
       "      <th>count</th>\n",
       "      <th>mean</th>\n",
       "      <th>std</th>\n",
       "      <th>min</th>\n",
       "      <th>25%</th>\n",
       "      <th>50%</th>\n",
       "      <th>75%</th>\n",
       "      <th>max</th>\n",
       "    </tr>\n",
       "  </thead>\n",
       "  <tbody>\n",
       "    <tr>\n",
       "      <th>hair</th>\n",
       "      <td>101.0</td>\n",
       "      <td>0.425743</td>\n",
       "      <td>0.496921</td>\n",
       "      <td>0.0</td>\n",
       "      <td>0.0</td>\n",
       "      <td>0.0</td>\n",
       "      <td>1.0</td>\n",
       "      <td>1.0</td>\n",
       "    </tr>\n",
       "    <tr>\n",
       "      <th>feathers</th>\n",
       "      <td>101.0</td>\n",
       "      <td>0.198020</td>\n",
       "      <td>0.400495</td>\n",
       "      <td>0.0</td>\n",
       "      <td>0.0</td>\n",
       "      <td>0.0</td>\n",
       "      <td>0.0</td>\n",
       "      <td>1.0</td>\n",
       "    </tr>\n",
       "    <tr>\n",
       "      <th>eggs</th>\n",
       "      <td>101.0</td>\n",
       "      <td>0.584158</td>\n",
       "      <td>0.495325</td>\n",
       "      <td>0.0</td>\n",
       "      <td>0.0</td>\n",
       "      <td>1.0</td>\n",
       "      <td>1.0</td>\n",
       "      <td>1.0</td>\n",
       "    </tr>\n",
       "    <tr>\n",
       "      <th>milk</th>\n",
       "      <td>101.0</td>\n",
       "      <td>0.405941</td>\n",
       "      <td>0.493522</td>\n",
       "      <td>0.0</td>\n",
       "      <td>0.0</td>\n",
       "      <td>0.0</td>\n",
       "      <td>1.0</td>\n",
       "      <td>1.0</td>\n",
       "    </tr>\n",
       "    <tr>\n",
       "      <th>airborne</th>\n",
       "      <td>101.0</td>\n",
       "      <td>0.237624</td>\n",
       "      <td>0.427750</td>\n",
       "      <td>0.0</td>\n",
       "      <td>0.0</td>\n",
       "      <td>0.0</td>\n",
       "      <td>0.0</td>\n",
       "      <td>1.0</td>\n",
       "    </tr>\n",
       "    <tr>\n",
       "      <th>aquatic</th>\n",
       "      <td>101.0</td>\n",
       "      <td>0.356436</td>\n",
       "      <td>0.481335</td>\n",
       "      <td>0.0</td>\n",
       "      <td>0.0</td>\n",
       "      <td>0.0</td>\n",
       "      <td>1.0</td>\n",
       "      <td>1.0</td>\n",
       "    </tr>\n",
       "    <tr>\n",
       "      <th>predator</th>\n",
       "      <td>101.0</td>\n",
       "      <td>0.554455</td>\n",
       "      <td>0.499505</td>\n",
       "      <td>0.0</td>\n",
       "      <td>0.0</td>\n",
       "      <td>1.0</td>\n",
       "      <td>1.0</td>\n",
       "      <td>1.0</td>\n",
       "    </tr>\n",
       "    <tr>\n",
       "      <th>toothed</th>\n",
       "      <td>101.0</td>\n",
       "      <td>0.603960</td>\n",
       "      <td>0.491512</td>\n",
       "      <td>0.0</td>\n",
       "      <td>0.0</td>\n",
       "      <td>1.0</td>\n",
       "      <td>1.0</td>\n",
       "      <td>1.0</td>\n",
       "    </tr>\n",
       "    <tr>\n",
       "      <th>backbone</th>\n",
       "      <td>101.0</td>\n",
       "      <td>0.821782</td>\n",
       "      <td>0.384605</td>\n",
       "      <td>0.0</td>\n",
       "      <td>1.0</td>\n",
       "      <td>1.0</td>\n",
       "      <td>1.0</td>\n",
       "      <td>1.0</td>\n",
       "    </tr>\n",
       "    <tr>\n",
       "      <th>breathes</th>\n",
       "      <td>101.0</td>\n",
       "      <td>0.792079</td>\n",
       "      <td>0.407844</td>\n",
       "      <td>0.0</td>\n",
       "      <td>1.0</td>\n",
       "      <td>1.0</td>\n",
       "      <td>1.0</td>\n",
       "      <td>1.0</td>\n",
       "    </tr>\n",
       "    <tr>\n",
       "      <th>venomous</th>\n",
       "      <td>101.0</td>\n",
       "      <td>0.079208</td>\n",
       "      <td>0.271410</td>\n",
       "      <td>0.0</td>\n",
       "      <td>0.0</td>\n",
       "      <td>0.0</td>\n",
       "      <td>0.0</td>\n",
       "      <td>1.0</td>\n",
       "    </tr>\n",
       "    <tr>\n",
       "      <th>fins</th>\n",
       "      <td>101.0</td>\n",
       "      <td>0.168317</td>\n",
       "      <td>0.376013</td>\n",
       "      <td>0.0</td>\n",
       "      <td>0.0</td>\n",
       "      <td>0.0</td>\n",
       "      <td>0.0</td>\n",
       "      <td>1.0</td>\n",
       "    </tr>\n",
       "    <tr>\n",
       "      <th>legs</th>\n",
       "      <td>101.0</td>\n",
       "      <td>2.841584</td>\n",
       "      <td>2.033385</td>\n",
       "      <td>0.0</td>\n",
       "      <td>2.0</td>\n",
       "      <td>4.0</td>\n",
       "      <td>4.0</td>\n",
       "      <td>8.0</td>\n",
       "    </tr>\n",
       "    <tr>\n",
       "      <th>tail</th>\n",
       "      <td>101.0</td>\n",
       "      <td>0.742574</td>\n",
       "      <td>0.439397</td>\n",
       "      <td>0.0</td>\n",
       "      <td>0.0</td>\n",
       "      <td>1.0</td>\n",
       "      <td>1.0</td>\n",
       "      <td>1.0</td>\n",
       "    </tr>\n",
       "    <tr>\n",
       "      <th>domestic</th>\n",
       "      <td>101.0</td>\n",
       "      <td>0.128713</td>\n",
       "      <td>0.336552</td>\n",
       "      <td>0.0</td>\n",
       "      <td>0.0</td>\n",
       "      <td>0.0</td>\n",
       "      <td>0.0</td>\n",
       "      <td>1.0</td>\n",
       "    </tr>\n",
       "    <tr>\n",
       "      <th>catsize</th>\n",
       "      <td>101.0</td>\n",
       "      <td>0.435644</td>\n",
       "      <td>0.498314</td>\n",
       "      <td>0.0</td>\n",
       "      <td>0.0</td>\n",
       "      <td>0.0</td>\n",
       "      <td>1.0</td>\n",
       "      <td>1.0</td>\n",
       "    </tr>\n",
       "    <tr>\n",
       "      <th>class_type</th>\n",
       "      <td>101.0</td>\n",
       "      <td>2.831683</td>\n",
       "      <td>2.102709</td>\n",
       "      <td>1.0</td>\n",
       "      <td>1.0</td>\n",
       "      <td>2.0</td>\n",
       "      <td>4.0</td>\n",
       "      <td>7.0</td>\n",
       "    </tr>\n",
       "  </tbody>\n",
       "</table>\n",
       "</div>"
      ],
      "text/plain": [
       "            count      mean       std  min  25%  50%  75%  max\n",
       "hair        101.0  0.425743  0.496921  0.0  0.0  0.0  1.0  1.0\n",
       "feathers    101.0  0.198020  0.400495  0.0  0.0  0.0  0.0  1.0\n",
       "eggs        101.0  0.584158  0.495325  0.0  0.0  1.0  1.0  1.0\n",
       "milk        101.0  0.405941  0.493522  0.0  0.0  0.0  1.0  1.0\n",
       "airborne    101.0  0.237624  0.427750  0.0  0.0  0.0  0.0  1.0\n",
       "aquatic     101.0  0.356436  0.481335  0.0  0.0  0.0  1.0  1.0\n",
       "predator    101.0  0.554455  0.499505  0.0  0.0  1.0  1.0  1.0\n",
       "toothed     101.0  0.603960  0.491512  0.0  0.0  1.0  1.0  1.0\n",
       "backbone    101.0  0.821782  0.384605  0.0  1.0  1.0  1.0  1.0\n",
       "breathes    101.0  0.792079  0.407844  0.0  1.0  1.0  1.0  1.0\n",
       "venomous    101.0  0.079208  0.271410  0.0  0.0  0.0  0.0  1.0\n",
       "fins        101.0  0.168317  0.376013  0.0  0.0  0.0  0.0  1.0\n",
       "legs        101.0  2.841584  2.033385  0.0  2.0  4.0  4.0  8.0\n",
       "tail        101.0  0.742574  0.439397  0.0  0.0  1.0  1.0  1.0\n",
       "domestic    101.0  0.128713  0.336552  0.0  0.0  0.0  0.0  1.0\n",
       "catsize     101.0  0.435644  0.498314  0.0  0.0  0.0  1.0  1.0\n",
       "class_type  101.0  2.831683  2.102709  1.0  1.0  2.0  4.0  7.0"
      ]
     },
     "metadata": {},
     "output_type": "display_data"
    }
   ],
   "source": [
    "display(zoo.describe().T)"
   ]
  },
  {
   "cell_type": "markdown",
   "metadata": {},
   "source": [
    "#### Assess missing data"
   ]
  },
  {
   "cell_type": "code",
   "execution_count": 12,
   "metadata": {},
   "outputs": [],
   "source": [
    "# Perform an assessment of how much missing data there is in each column of the dataset\n",
    "\n",
    "null_ser = zoo.isnull().sum()\n",
    "\n",
    "null_ser_perc = (zoo.isnull().sum()/len(zoo))*100\n",
    "\n",
    "null_dict = {'num of missing':null_ser.values,'perc of missing':null_ser_perc}\n",
    "\n",
    "zoo_null_df = pd.DataFrame(data=null_dict,index=null_ser.index)\n",
    "\n",
    "zoo_null_df.sort_values(by='num of missing',ascending=False,inplace=True)"
   ]
  },
  {
   "cell_type": "code",
   "execution_count": 13,
   "metadata": {},
   "outputs": [
    {
     "data": {
      "text/html": [
       "<div>\n",
       "<style scoped>\n",
       "    .dataframe tbody tr th:only-of-type {\n",
       "        vertical-align: middle;\n",
       "    }\n",
       "\n",
       "    .dataframe tbody tr th {\n",
       "        vertical-align: top;\n",
       "    }\n",
       "\n",
       "    .dataframe thead th {\n",
       "        text-align: right;\n",
       "    }\n",
       "</style>\n",
       "<table border=\"1\" class=\"dataframe\">\n",
       "  <thead>\n",
       "    <tr style=\"text-align: right;\">\n",
       "      <th></th>\n",
       "      <th>num of missing</th>\n",
       "      <th>perc of missing</th>\n",
       "    </tr>\n",
       "  </thead>\n",
       "  <tbody>\n",
       "    <tr>\n",
       "      <th>animal_name</th>\n",
       "      <td>0</td>\n",
       "      <td>0.0</td>\n",
       "    </tr>\n",
       "    <tr>\n",
       "      <th>hair</th>\n",
       "      <td>0</td>\n",
       "      <td>0.0</td>\n",
       "    </tr>\n",
       "    <tr>\n",
       "      <th>catsize</th>\n",
       "      <td>0</td>\n",
       "      <td>0.0</td>\n",
       "    </tr>\n",
       "    <tr>\n",
       "      <th>domestic</th>\n",
       "      <td>0</td>\n",
       "      <td>0.0</td>\n",
       "    </tr>\n",
       "    <tr>\n",
       "      <th>tail</th>\n",
       "      <td>0</td>\n",
       "      <td>0.0</td>\n",
       "    </tr>\n",
       "    <tr>\n",
       "      <th>legs</th>\n",
       "      <td>0</td>\n",
       "      <td>0.0</td>\n",
       "    </tr>\n",
       "    <tr>\n",
       "      <th>fins</th>\n",
       "      <td>0</td>\n",
       "      <td>0.0</td>\n",
       "    </tr>\n",
       "    <tr>\n",
       "      <th>venomous</th>\n",
       "      <td>0</td>\n",
       "      <td>0.0</td>\n",
       "    </tr>\n",
       "    <tr>\n",
       "      <th>breathes</th>\n",
       "      <td>0</td>\n",
       "      <td>0.0</td>\n",
       "    </tr>\n",
       "    <tr>\n",
       "      <th>backbone</th>\n",
       "      <td>0</td>\n",
       "      <td>0.0</td>\n",
       "    </tr>\n",
       "    <tr>\n",
       "      <th>toothed</th>\n",
       "      <td>0</td>\n",
       "      <td>0.0</td>\n",
       "    </tr>\n",
       "    <tr>\n",
       "      <th>predator</th>\n",
       "      <td>0</td>\n",
       "      <td>0.0</td>\n",
       "    </tr>\n",
       "    <tr>\n",
       "      <th>aquatic</th>\n",
       "      <td>0</td>\n",
       "      <td>0.0</td>\n",
       "    </tr>\n",
       "    <tr>\n",
       "      <th>airborne</th>\n",
       "      <td>0</td>\n",
       "      <td>0.0</td>\n",
       "    </tr>\n",
       "    <tr>\n",
       "      <th>milk</th>\n",
       "      <td>0</td>\n",
       "      <td>0.0</td>\n",
       "    </tr>\n",
       "    <tr>\n",
       "      <th>eggs</th>\n",
       "      <td>0</td>\n",
       "      <td>0.0</td>\n",
       "    </tr>\n",
       "    <tr>\n",
       "      <th>feathers</th>\n",
       "      <td>0</td>\n",
       "      <td>0.0</td>\n",
       "    </tr>\n",
       "    <tr>\n",
       "      <th>class_type</th>\n",
       "      <td>0</td>\n",
       "      <td>0.0</td>\n",
       "    </tr>\n",
       "  </tbody>\n",
       "</table>\n",
       "</div>"
      ],
      "text/plain": [
       "             num of missing  perc of missing\n",
       "animal_name               0              0.0\n",
       "hair                      0              0.0\n",
       "catsize                   0              0.0\n",
       "domestic                  0              0.0\n",
       "tail                      0              0.0\n",
       "legs                      0              0.0\n",
       "fins                      0              0.0\n",
       "venomous                  0              0.0\n",
       "breathes                  0              0.0\n",
       "backbone                  0              0.0\n",
       "toothed                   0              0.0\n",
       "predator                  0              0.0\n",
       "aquatic                   0              0.0\n",
       "airborne                  0              0.0\n",
       "milk                      0              0.0\n",
       "eggs                      0              0.0\n",
       "feathers                  0              0.0\n",
       "class_type                0              0.0"
      ]
     },
     "execution_count": 13,
     "metadata": {},
     "output_type": "execute_result"
    }
   ],
   "source": [
    "# Dataframe with Number of missings and % of missings for each columns (represented as inde\n",
    "\n",
    "zoo_null_df"
   ]
  },
  {
   "cell_type": "markdown",
   "metadata": {},
   "source": [
    "#### Assess outliers data"
   ]
  },
  {
   "cell_type": "code",
   "execution_count": 14,
   "metadata": {},
   "outputs": [
    {
     "data": {
      "text/plain": [
       "<AxesSubplot:>"
      ]
     },
     "execution_count": 14,
     "metadata": {},
     "output_type": "execute_result"
    },
    {
     "data": {
      "image/png": "[encoded data removed]",
      "text/plain": [
       "<Figure size 720x576 with 1 Axes>"
      ]
     },
     "metadata": {
      "needs_background": "light"
     },
     "output_type": "display_data"
    }
   ],
   "source": [
    "# Già il describe aveva evidenziato l'assenza di Outliers\n",
    "\n",
    "fig_dims = (10, 8)\n",
    "fig, ax = plt.subplots(figsize=fig_dims)\n",
    "\n",
    "sns.boxplot(ax=ax, data=zoo.loc[:,zoo.columns != 'class_type'], orient='h', palette='rainbow')"
   ]
  },
  {
   "cell_type": "markdown",
   "metadata": {},
   "source": [
    "### Classes Dataframe"
   ]
  },
  {
   "cell_type": "code",
   "execution_count": 15,
   "metadata": {},
   "outputs": [
    {
     "name": "stdout",
     "output_type": "stream",
     "text": [
      "(7, 4)\n"
     ]
    }
   ],
   "source": [
    "print(classes.shape)"
   ]
  },
  {
   "cell_type": "code",
   "execution_count": 16,
   "metadata": {},
   "outputs": [
    {
     "name": "stdout",
     "output_type": "stream",
     "text": [
      "Index(['Class_Number', 'Number_Of_Animal_Species_In_Class', 'Class_Type',\n",
      "       'Animal_Names'],\n",
      "      dtype='object')\n"
     ]
    }
   ],
   "source": [
    "print(classes.columns)"
   ]
  },
  {
   "cell_type": "code",
   "execution_count": 17,
   "metadata": {},
   "outputs": [
    {
     "data": {
      "text/html": [
       "<div>\n",
       "<style scoped>\n",
       "    .dataframe tbody tr th:only-of-type {\n",
       "        vertical-align: middle;\n",
       "    }\n",
       "\n",
       "    .dataframe tbody tr th {\n",
       "        vertical-align: top;\n",
       "    }\n",
       "\n",
       "    .dataframe thead th {\n",
       "        text-align: right;\n",
       "    }\n",
       "</style>\n",
       "<table border=\"1\" class=\"dataframe\">\n",
       "  <thead>\n",
       "    <tr style=\"text-align: right;\">\n",
       "      <th></th>\n",
       "      <th>Class_Number</th>\n",
       "      <th>Number_Of_Animal_Species_In_Class</th>\n",
       "      <th>Class_Type</th>\n",
       "      <th>Animal_Names</th>\n",
       "    </tr>\n",
       "  </thead>\n",
       "  <tbody>\n",
       "    <tr>\n",
       "      <th>0</th>\n",
       "      <td>1</td>\n",
       "      <td>41</td>\n",
       "      <td>Mammal</td>\n",
       "      <td>aardvark, antelope, bear, boar, buffalo, calf,...</td>\n",
       "    </tr>\n",
       "    <tr>\n",
       "      <th>1</th>\n",
       "      <td>2</td>\n",
       "      <td>20</td>\n",
       "      <td>Bird</td>\n",
       "      <td>chicken, crow, dove, duck, flamingo, gull, haw...</td>\n",
       "    </tr>\n",
       "    <tr>\n",
       "      <th>2</th>\n",
       "      <td>3</td>\n",
       "      <td>5</td>\n",
       "      <td>Reptile</td>\n",
       "      <td>pitviper, seasnake, slowworm, tortoise, tuatara</td>\n",
       "    </tr>\n",
       "    <tr>\n",
       "      <th>3</th>\n",
       "      <td>4</td>\n",
       "      <td>13</td>\n",
       "      <td>Fish</td>\n",
       "      <td>bass, carp, catfish, chub, dogfish, haddock, h...</td>\n",
       "    </tr>\n",
       "    <tr>\n",
       "      <th>4</th>\n",
       "      <td>5</td>\n",
       "      <td>4</td>\n",
       "      <td>Amphibian</td>\n",
       "      <td>frog, frog, newt, toad</td>\n",
       "    </tr>\n",
       "    <tr>\n",
       "      <th>5</th>\n",
       "      <td>6</td>\n",
       "      <td>8</td>\n",
       "      <td>Bug</td>\n",
       "      <td>flea, gnat, honeybee, housefly, ladybird, moth...</td>\n",
       "    </tr>\n",
       "    <tr>\n",
       "      <th>6</th>\n",
       "      <td>7</td>\n",
       "      <td>10</td>\n",
       "      <td>Invertebrate</td>\n",
       "      <td>clam, crab, crayfish, lobster, octopus, scorpi...</td>\n",
       "    </tr>\n",
       "  </tbody>\n",
       "</table>\n",
       "</div>"
      ],
      "text/plain": [
       "   Class_Number  Number_Of_Animal_Species_In_Class    Class_Type  \\\n",
       "0             1                                 41        Mammal   \n",
       "1             2                                 20          Bird   \n",
       "2             3                                  5       Reptile   \n",
       "3             4                                 13          Fish   \n",
       "4             5                                  4     Amphibian   \n",
       "5             6                                  8           Bug   \n",
       "6             7                                 10  Invertebrate   \n",
       "\n",
       "                                        Animal_Names  \n",
       "0  aardvark, antelope, bear, boar, buffalo, calf,...  \n",
       "1  chicken, crow, dove, duck, flamingo, gull, haw...  \n",
       "2    pitviper, seasnake, slowworm, tortoise, tuatara  \n",
       "3  bass, carp, catfish, chub, dogfish, haddock, h...  \n",
       "4                             frog, frog, newt, toad  \n",
       "5  flea, gnat, honeybee, housefly, ladybird, moth...  \n",
       "6  clam, crab, crayfish, lobster, octopus, scorpi...  "
      ]
     },
     "execution_count": 17,
     "metadata": {},
     "output_type": "execute_result"
    }
   ],
   "source": [
    "classes.head(10)"
   ]
  },
  {
   "cell_type": "code",
   "execution_count": 18,
   "metadata": {},
   "outputs": [],
   "source": [
    "#display(classes.describe().T)"
   ]
  },
  {
   "cell_type": "markdown",
   "metadata": {},
   "source": [
    "#### Assess missing data"
   ]
  },
  {
   "cell_type": "code",
   "execution_count": 19,
   "metadata": {},
   "outputs": [],
   "source": [
    "# Perform an assessment of how much missing data there is in each column of the dataset\n",
    "\n",
    "null_ser = classes.isnull().sum()\n",
    "null_ser_perc = (classes.isnull().sum()/len(classes))*100\n",
    "\n",
    "null_dict = {'num of missing':null_ser.values, 'perc of missing': null_ser_perc}\n",
    "\n",
    "classes_null_df = pd.DataFrame(data=null_dict, index=null_ser.index)\n",
    "\n",
    "classes_null_df.sort_values(by='num of missing', ascending=False, inplace=True)"
   ]
  },
  {
   "cell_type": "code",
   "execution_count": 20,
   "metadata": {},
   "outputs": [
    {
     "data": {
      "text/html": [
       "<div>\n",
       "<style scoped>\n",
       "    .dataframe tbody tr th:only-of-type {\n",
       "        vertical-align: middle;\n",
       "    }\n",
       "\n",
       "    .dataframe tbody tr th {\n",
       "        vertical-align: top;\n",
       "    }\n",
       "\n",
       "    .dataframe thead th {\n",
       "        text-align: right;\n",
       "    }\n",
       "</style>\n",
       "<table border=\"1\" class=\"dataframe\">\n",
       "  <thead>\n",
       "    <tr style=\"text-align: right;\">\n",
       "      <th></th>\n",
       "      <th>num of missing</th>\n",
       "      <th>perc of missing</th>\n",
       "    </tr>\n",
       "  </thead>\n",
       "  <tbody>\n",
       "    <tr>\n",
       "      <th>Class_Number</th>\n",
       "      <td>0</td>\n",
       "      <td>0.0</td>\n",
       "    </tr>\n",
       "    <tr>\n",
       "      <th>Number_Of_Animal_Species_In_Class</th>\n",
       "      <td>0</td>\n",
       "      <td>0.0</td>\n",
       "    </tr>\n",
       "    <tr>\n",
       "      <th>Class_Type</th>\n",
       "      <td>0</td>\n",
       "      <td>0.0</td>\n",
       "    </tr>\n",
       "    <tr>\n",
       "      <th>Animal_Names</th>\n",
       "      <td>0</td>\n",
       "      <td>0.0</td>\n",
       "    </tr>\n",
       "  </tbody>\n",
       "</table>\n",
       "</div>"
      ],
      "text/plain": [
       "                                   num of missing  perc of missing\n",
       "Class_Number                                    0              0.0\n",
       "Number_Of_Animal_Species_In_Class               0              0.0\n",
       "Class_Type                                      0              0.0\n",
       "Animal_Names                                    0              0.0"
      ]
     },
     "execution_count": 20,
     "metadata": {},
     "output_type": "execute_result"
    }
   ],
   "source": [
    "# Dataframe with Number of missings and % of missings for each columns (represented as index)\n",
    "\n",
    "classes_null_df"
   ]
  },
  {
   "cell_type": "markdown",
   "metadata": {},
   "source": [
    "#### Assess outliers data"
   ]
  },
  {
   "cell_type": "code",
   "execution_count": 21,
   "metadata": {},
   "outputs": [],
   "source": [
    "# Per il DataFrame classes non ha senso la ricerca"
   ]
  },
  {
   "cell_type": "markdown",
   "metadata": {},
   "source": [
    "---"
   ]
  },
  {
   "cell_type": "markdown",
   "metadata": {},
   "source": [
    "## Pipeline"
   ]
  },
  {
   "cell_type": "markdown",
   "metadata": {},
   "source": [
    "Definiamo una pipeline a tre stadi in cui eseguire: preprocessing, feat. trasformation e clustering che precedentemente abbiamo eseguito sequenzialmente"
   ]
  },
  {
   "cell_type": "markdown",
   "metadata": {},
   "source": [
    "- 1st stage: preprocessing\n",
    "- 2nd stage: transforming\n",
    "- 3th stage: clustering"
   ]
  },
  {
   "cell_type": "markdown",
   "metadata": {},
   "source": [
    "Una volta eseguita la Pipeline abbiamo calcolato le statistiche di ciascun risultato e le abbiamo stampate"
   ]
  },
  {
   "cell_type": "markdown",
   "metadata": {},
   "source": [
    "### Class preprocessing"
   ]
  },
  {
   "cell_type": "markdown",
   "metadata": {},
   "source": [
    "Input:\n",
    "- Zoo dataset\n",
    "\n",
    "Preprocess:\n",
    "- drop off columns not needed\n",
    "\n",
    "Output:\n",
    "- Zoo dataset preprocessed"
   ]
  },
  {
   "cell_type": "code",
   "execution_count": 22,
   "metadata": {},
   "outputs": [],
   "source": [
    "class preprocessing(BaseEstimator, TransformerMixin):\n",
    "    \n",
    "    prep_data = None\n",
    "    \n",
    "    def __init__(self):\n",
    "        prep_data = None\n",
    "    \n",
    "    def fit(self, X, Y=None):\n",
    "        \n",
    "        return self\n",
    "    \n",
    "    def transform(self, X, Y=None):\n",
    "        \n",
    "        return X.drop(['animal_name','class_type'],axis=1)\n",
    "    \n",
    "    def fit_transform(self, X, Y=None):\n",
    "        \n",
    "        self.fit(X, Y)\n",
    "        self.prep_data = self.transform(X, Y)\n",
    "        \n",
    "        return self.prep_data\n",
    "    "
   ]
  },
  {
   "cell_type": "markdown",
   "metadata": {},
   "source": [
    "### Class transforming"
   ]
  },
  {
   "cell_type": "markdown",
   "metadata": {},
   "source": [
    "Input:\n",
    "- Zoo dataset\n",
    "\n",
    "Transformations:\n",
    "\n",
    "- re-encode numerical features:\n",
    "    - Standard Scaler\n",
    "    - MinMax Scaler\n",
    "- one hot encoding for legs column\n",
    "    - yes\n",
    "    - no\n",
    "    \n",
    "Output:\n",
    "- Zoo dataset transformed"
   ]
  },
  {
   "cell_type": "code",
   "execution_count": 23,
   "metadata": {},
   "outputs": [],
   "source": [
    "class transforming(BaseEstimator, TransformerMixin):\n",
    "\n",
    "    scaler = None\n",
    "    scaler_method = None\n",
    "    ohe_legs=None\n",
    "    transf_data=None\n",
    "    \n",
    "    def __init__(self, scaler, scaler_method, ohe_legs):\n",
    "        \n",
    "        self.scaler=scaler\n",
    "        self.scaler_method = scaler_method\n",
    "        self.ohe_legs=ohe_legs\n",
    "    \n",
    "    def fit(self, X, Y=None):\n",
    "\n",
    "        return self\n",
    "    \n",
    "    def transform(self, X, Y=None):\n",
    "\n",
    "        if self.ohe_legs:\n",
    "            X_oneh = pd.get_dummies(X['legs'], prefix='legs')\n",
    "            X_wo_legs = X[[x for x in X.columns if x != 'legs']] \n",
    "            X = X_wo_legs.join(X_oneh)\n",
    "        else:\n",
    "            pass\n",
    "        \n",
    "        self.scaler.fit(X)\n",
    "        \n",
    "        X = pd.DataFrame(self.scaler.transform(X))\n",
    "            \n",
    "        return X\n",
    "    \n",
    "    def fit_transform(self, X, Y=None):\n",
    "        \n",
    "        self.fit(X, Y)\n",
    "        self.transf_data = self.transform(X, Y)\n",
    "        \n",
    "        return self.transf_data\n",
    "    "
   ]
  },
  {
   "cell_type": "markdown",
   "metadata": {},
   "source": [
    "### Class clustering"
   ]
  },
  {
   "cell_type": "markdown",
   "metadata": {},
   "source": [
    "Input:\n",
    "- ML object (KMeans, DBScan, AgglomerativeClustering)\n",
    "\n",
    "Output:\n",
    "- Prediction"
   ]
  },
  {
   "cell_type": "code",
   "execution_count": 24,
   "metadata": {},
   "outputs": [],
   "source": [
    "class clustering(BaseEstimator, ClusterMixin):\n",
    "\n",
    "    model = None\n",
    "    \n",
    "    def __init__(self, model):\n",
    "        self.model=model\n",
    "    \n",
    "    def fit(self, X, Y=None):\n",
    "        self.model.fit(X)\n",
    "        return self\n",
    "    \n",
    "    def predict(self, X, Y=None):\n",
    "        try:\n",
    "            X = self.model.predict(X)\n",
    "            return X\n",
    "        except AttributeError:\n",
    "            raise\n",
    "    \n",
    "    def fit_predict(self, X, Y=None):\n",
    "        try:\n",
    "            self.fit(X, Y)\n",
    "            \n",
    "            return self.predict(X, Y)\n",
    "        \n",
    "        except AttributeError:\n",
    "            \n",
    "            return self.model.fit_predict(X)\n"
   ]
  },
  {
   "cell_type": "markdown",
   "metadata": {},
   "source": [
    "### Class evaluation"
   ]
  },
  {
   "cell_type": "markdown",
   "metadata": {},
   "source": [
    "- Classe used to:\n",
    "  - collect the output of the Pipeline in a dictionary\n",
    "  - calculate score\n",
    "  - view predictions"
   ]
  },
  {
   "cell_type": "code",
   "execution_count": 25,
   "metadata": {},
   "outputs": [],
   "source": [
    "class evaluation(object):\n",
    "    \n",
    "    model_key = None\n",
    "    classes_all = None\n",
    "    zoo_all = None\n",
    "    zoo_class_type = None   \n",
    "    predictions = None\n",
    "    \n",
    "    def __init__(self, classes_all, zoo_all, zoo_class_type):\n",
    "        \n",
    "        # Init method\n",
    "        self.classes_all = classes_all\n",
    "        self.classes_all.rename(columns={'Class_Type': 'class_name', 'Class_Number': 'class_type'}, inplace=True)\n",
    "        self.zoo_all = zoo_all\n",
    "        self.zoo_class_type = zoo_class_type\n",
    "        self.predictions = {}\n",
    "        self.model_key = 0\n",
    "\n",
    "    def add_prediction(self, score_type, prediction, pipe_3):\n",
    "        \n",
    "        model = pipe_3.steps[2][1].model\n",
    "        scaler_method = pipe_3.steps[1][1].scaler_method\n",
    "        ohe_legs = pipe_3.steps[1][1].ohe_legs\n",
    "        scaler = pipe_3.steps[1][1].scaler\n",
    "        transf_data = pipe_3.steps[1][1].transf_data\n",
    "        \n",
    "        self.model_key = self.model_key + 1 #str(model) +'_'+scaler_method+'_'+str(ohe_legs)\n",
    "        \n",
    "        if score_type == 'adj_rand':\n",
    "            score = self.calculate_score(self.zoo_class_type, prediction)\n",
    "        elif score_type == 'sil':\n",
    "            score = self.calculate_sil_score(transf_data, prediction)\n",
    "        else:\n",
    "            score = 0\n",
    "        \n",
    "        self.predictions[self.model_key] = [prediction, model, scaler_method, ohe_legs, score, transf_data, scaler, pipe_3]\n",
    "        \n",
    "    def calculate_score(self, real, pred):\n",
    "    \n",
    "        return adjusted_rand_score(real, pred)\n",
    "\n",
    "    def calculate_sil_score(self, X, pred):\n",
    "    \n",
    "        return silhouette_score(X, pred)\n",
    "        \n",
    "    def print_models_list(self):\n",
    "        \n",
    "        print(tabulate(sorted([[k,v[1],v[2],v[3],v[4]] for k,v in self.predictions.items()], key=lambda tup:tup[0],reverse=False),headers=['Model\\'s Key','Model','Scaler Type','OHE','Score ']))\n",
    "\n",
    "    def print_models_list_by_score(self):\n",
    "        \n",
    "        print(tabulate(sorted([[v[4],k,v[1],v[2],v[3]] for k,v in self.predictions.items()], key=lambda tup:tup[0],reverse=True),headers=['Score ','Model\\'s Key','Model','Scaler Type','OHE']))\n",
    "            \n",
    "    def print_model_summary(self, model_key):\n",
    "\n",
    "        prediction = self.predictions[model_key][0]\n",
    "        \n",
    "        #Calculate Summary\n",
    "        df = pd.concat([self.zoo_class_type, pd.Series(prediction, name='class_type_pred')], axis=1)\n",
    "        df['count'] = 1\n",
    "\n",
    "        df = pd.merge(df,self.classes_all,left_on='class_type',right_on='class_type')\n",
    "        \n",
    "        df = df[['class_name','class_type_pred','count']].groupby(['class_name','class_type_pred']).sum()\n",
    "        df.reset_index(inplace=True)\n",
    "        \n",
    "        lessone=0\n",
    "        if -1 in df['class_type_pred'].values:\n",
    "            lessone=1\n",
    "\n",
    "        df_pivoted = df.pivot(index='class_name', columns=['class_type_pred'], values='count')\n",
    "        \n",
    "        df_stats = pd.DataFrame(columns=['class_name', 'cluster_nbr', 'amount', 'total'])\n",
    "        \n",
    "        for index, row in df_pivoted.iterrows():\n",
    "            for col_index,col in enumerate(row.values):                \n",
    "                if col > 0:\n",
    "                    df_stats = df_stats.append({'class_name': index, 'cluster_nbr': (col_index-lessone), 'amount': int(col), \n",
    "                                                'total': int(row.sum()) } ,ignore_index=True)\n",
    "        \n",
    "        #Print Summary\n",
    "        summary_rows = []\n",
    "        for index, row in df_stats.iterrows():\n",
    "            amount = row['amount']\n",
    "            total = row['total']\n",
    "            class_name = row['class_name']\n",
    "            cluster_nbr = row['cluster_nbr']\n",
    "            summary_rows.append( ['[{}/{}] of {}s have been put into Cluster Nbr. {} : ({:.1f}%)'.format(amount,total,class_name,cluster_nbr,(amount/total)*100)] )\n",
    "\n",
    "        print(tabulate(summary_rows,headers=['Summary for Model: '+ str(self.predictions[model_key][1]) ] ) )\n",
    "        \n",
    "    def print_confusion_matrix(self, model_key):\n",
    "        \n",
    "        prediction = self.predictions[model_key][0]\n",
    "        \n",
    "        df = pd.concat([self.zoo_class_type, pd.Series(prediction, name='class_type_pred')], axis=1)\n",
    "        df['count'] = 1\n",
    "        df = pd.merge(df,self.classes_all,left_on='class_type',right_on='class_type')\n",
    "        df = df[['class_name','class_type','class_type_pred','count']].groupby(['class_name','class_type','class_type_pred']).sum()\n",
    "        \n",
    "        df.reset_index(inplace=True)\n",
    "        \n",
    "        df_pivoted = df.pivot(index='class_name', columns=['class_type_pred'], values='count')\n",
    "        df_pivoted = df_pivoted.fillna(0)\n",
    "        df_pivoted = df_pivoted.astype(int)\n",
    "        \n",
    "        print(df_pivoted)\n",
    "\n",
    "    def print_countplot(self, model_key):\n",
    "        \n",
    "        prediction = self.predictions[model_key][0]\n",
    "        \n",
    "        df = pd.concat([self.zoo_class_type, pd.Series(prediction, name='class_type_pred')], axis=1)\n",
    "        df['count'] = 1\n",
    "        df = pd.merge(df,self.classes_all,left_on='class_type',right_on='class_type')\n",
    "        \n",
    "        fig, ax = plt.subplots(figsize=(10,10))\n",
    "        sns.countplot(x='class_type_pred', data=df, facecolor=(0, 0, 0, 0), linewidth=1, alpha=0.1)\n",
    "        sns.countplot(x='class_type_pred', hue='class_name', data=df)\n",
    "        \n",
    "        ax.set(xlabel='Clusters Predicted', ylabel='Count')\n",
    "        plt.legend(title = \"Class Name\")\n",
    "        plt.show()\n",
    "\n",
    "    def print_scatterplot(self, model_key):\n",
    "        \n",
    "        prediction = self.predictions[model_key][0]\n",
    "        trans_data = self.predictions[model_key][5]\n",
    "        \n",
    "        df_trans_data = pd.DataFrame(trans_data)\n",
    "        \n",
    "        pca = PCA(n_components=2)\n",
    "        pca.fit(df_trans_data)\n",
    "        pca_trans_data = pca.transform(df_trans_data)\n",
    "\n",
    "        pca_trans_data = pd.DataFrame(pca_trans_data,columns=['PCA 1','PCA 2'])\n",
    "\n",
    "        df_prediction = pd.DataFrame(prediction,columns=['pred'])\n",
    "        df_prediction['pred'] = df_prediction['pred'].apply(str)\n",
    "\n",
    "        pca_trans_data = pca_trans_data.join(df_prediction)\n",
    "\n",
    "        val_sorted = pd.unique(pca_trans_data['pred'].values).tolist().sort()\n",
    "        \n",
    "        fig, ax = plt.subplots(figsize=(10,10))\n",
    "        sns.scatterplot(data=pca_trans_data, x='PCA 1', y='PCA 2', hue='pred', hue_order = val_sorted )\n"
   ]
  },
  {
   "cell_type": "markdown",
   "metadata": {},
   "source": [
    "---"
   ]
  },
  {
   "cell_type": "markdown",
   "metadata": {},
   "source": [
    "## Pipeline Execution"
   ]
  },
  {
   "cell_type": "markdown",
   "metadata": {},
   "source": [
    "- Definiamo:\n",
    "  - numero di clusters da ricercare nel dataset zoo\n",
    "  - istanziamo gli oggetti implementanti gli algoritmi di clustering e li inseriamo in una lista (algorithms)\n",
    "  - creiamo una lista per i metodi di scaler da utilizzare (scaler_methods)\n",
    "  - creiamo una lista di scelte di esecuzione dell'OHE (ohe_legs)\n",
    "  - istanziamo un oggetto evaluate per collezionare i risultati della Pipeline\n",
    "  - definiamo ed eseguiamo la Pipeline sugli input espressi nelle liste definite"
   ]
  },
  {
   "cell_type": "code",
   "execution_count": 26,
   "metadata": {},
   "outputs": [],
   "source": [
    "n_clusters = 7"
   ]
  },
  {
   "cell_type": "code",
   "execution_count": 27,
   "metadata": {},
   "outputs": [],
   "source": [
    "eval_ = evaluation(classes.copy(), zoo.copy(), zoo['class_type'])"
   ]
  },
  {
   "cell_type": "code",
   "execution_count": 28,
   "metadata": {},
   "outputs": [],
   "source": [
    "combinations = [\n",
    "    [KMeans(n_clusters=n_clusters, init = 'k-means++', random_state = 42), p.StandardScaler(), 'StandardScaler', False],\n",
    "    [KMeans(n_clusters=n_clusters, init = 'k-means++', random_state = 42), p.MinMaxScaler(), 'MinMaxScaler', False],\n",
    "    [KMeans(n_clusters=n_clusters, init = 'k-means++', random_state = 42), p.StandardScaler(), 'StandardScaler', True],\n",
    "    [KMeans(n_clusters=n_clusters, init = 'k-means++', random_state = 42), p.MinMaxScaler(), 'MinMaxScaler', True],\n",
    "    [DBSCAN(eps=1, min_samples=3), p.StandardScaler(), 'StandardScaler', False],\n",
    "    [DBSCAN(eps=1, min_samples=3), p.MinMaxScaler(), 'MinMaxScaler', False],\n",
    "    [DBSCAN(eps=1, min_samples=3), p.StandardScaler(), 'StandardScaler', True],\n",
    "    [DBSCAN(eps=1, min_samples=3), p.MinMaxScaler(), 'MinMaxScaler', True],\n",
    "    [AgglomerativeClustering(n_clusters=n_clusters), p.StandardScaler(), 'StandardScaler', False],\n",
    "    [AgglomerativeClustering(n_clusters=n_clusters), p.MinMaxScaler(), 'MinMaxScaler', False],\n",
    "    [AgglomerativeClustering(n_clusters=n_clusters), p.StandardScaler(), 'StandardScaler', True],\n",
    "    [AgglomerativeClustering(n_clusters=n_clusters), p.MinMaxScaler(), 'MinMaxScaler', True] \n",
    "]"
   ]
  },
  {
   "cell_type": "code",
   "execution_count": 29,
   "metadata": {},
   "outputs": [],
   "source": [
    "for combination in combinations:\n",
    "    \n",
    "    model = combination[0]\n",
    "    scaler = combination[1]\n",
    "    scaler_method = combination[2]\n",
    "    ohe = combination[3]\n",
    "    \n",
    "    pipe_3 = Pipeline([\n",
    "        (\"preprocessing\", preprocessing()),\n",
    "        (\"transforming\", transforming(scaler,scaler_method,ohe)),\n",
    "        ('clustering', clustering(model))\n",
    "    ])\n",
    "    \n",
    "    eval_.add_prediction(\n",
    "        'adj_rand',\n",
    "        pipe_3.fit_predict(zoo),\n",
    "        pipe_3\n",
    "    )    "
   ]
  },
  {
   "cell_type": "markdown",
   "metadata": {},
   "source": [
    "---"
   ]
  },
  {
   "cell_type": "markdown",
   "metadata": {},
   "source": [
    "## View Results"
   ]
  },
  {
   "cell_type": "markdown",
   "metadata": {},
   "source": [
    "- Visualizziamo la lista di tutti i modelli costruiti\n",
    "- Visualizziamo classifica dei migliori modelli\n",
    "- Visualizziamo la Tabella associata al modello selezionato\n",
    "- Visualizziamo la Confusion Matrix\n",
    "- Riduciamo le dimensioni usando e visualizziamo in 2D\n",
    "- Proviamo il modello con una entry inserita manualmente: [0,1,1,0,...]"
   ]
  },
  {
   "cell_type": "markdown",
   "metadata": {},
   "source": [
    "### Models' List"
   ]
  },
  {
   "cell_type": "code",
   "execution_count": 30,
   "metadata": {},
   "outputs": [
    {
     "name": "stdout",
     "output_type": "stream",
     "text": [
      "  Model's Key  Model                                  Scaler Type     OHE        Score\n",
      "-------------  -------------------------------------  --------------  -----  ----------\n",
      "            1  KMeans(n_clusters=7, random_state=42)  StandardScaler  False  0.866478\n",
      "            2  KMeans(n_clusters=7, random_state=42)  MinMaxScaler    False  0.636196\n",
      "            3  KMeans(n_clusters=7, random_state=42)  StandardScaler  True   0.844913\n",
      "            4  KMeans(n_clusters=7, random_state=42)  MinMaxScaler    True   0.72792\n",
      "            5  DBSCAN(eps=1, min_samples=3)           StandardScaler  False  0.0160008\n",
      "            6  DBSCAN(eps=1, min_samples=3)           MinMaxScaler    False  0.813018\n",
      "            7  DBSCAN(eps=1, min_samples=3)           StandardScaler  True   0.00419757\n",
      "            8  DBSCAN(eps=1, min_samples=3)           MinMaxScaler    True   0.707032\n",
      "            9  AgglomerativeClustering(n_clusters=7)  StandardScaler  False  0.679927\n",
      "           10  AgglomerativeClustering(n_clusters=7)  MinMaxScaler    False  0.682877\n",
      "           11  AgglomerativeClustering(n_clusters=7)  StandardScaler  True   0.789585\n",
      "           12  AgglomerativeClustering(n_clusters=7)  MinMaxScaler    True   0.763394\n"
     ]
    }
   ],
   "source": [
    "eval_.print_models_list()"
   ]
  },
  {
   "cell_type": "markdown",
   "metadata": {},
   "source": [
    "### Models' List by Score"
   ]
  },
  {
   "cell_type": "code",
   "execution_count": 31,
   "metadata": {},
   "outputs": [
    {
     "name": "stdout",
     "output_type": "stream",
     "text": [
      "    Score     Model's Key  Model                                  Scaler Type     OHE\n",
      "----------  -------------  -------------------------------------  --------------  -----\n",
      "0.866478                1  KMeans(n_clusters=7, random_state=42)  StandardScaler  False\n",
      "0.844913                3  KMeans(n_clusters=7, random_state=42)  StandardScaler  True\n",
      "0.813018                6  DBSCAN(eps=1, min_samples=3)           MinMaxScaler    False\n",
      "0.789585               11  AgglomerativeClustering(n_clusters=7)  StandardScaler  True\n",
      "0.763394               12  AgglomerativeClustering(n_clusters=7)  MinMaxScaler    True\n",
      "0.72792                 4  KMeans(n_clusters=7, random_state=42)  MinMaxScaler    True\n",
      "0.707032                8  DBSCAN(eps=1, min_samples=3)           MinMaxScaler    True\n",
      "0.682877               10  AgglomerativeClustering(n_clusters=7)  MinMaxScaler    False\n",
      "0.679927                9  AgglomerativeClustering(n_clusters=7)  StandardScaler  False\n",
      "0.636196                2  KMeans(n_clusters=7, random_state=42)  MinMaxScaler    False\n",
      "0.0160008               5  DBSCAN(eps=1, min_samples=3)           StandardScaler  False\n",
      "0.00419757              7  DBSCAN(eps=1, min_samples=3)           StandardScaler  True\n"
     ]
    }
   ],
   "source": [
    "eval_.print_models_list_by_score()"
   ]
  },
  {
   "cell_type": "markdown",
   "metadata": {},
   "source": [
    "### Model' Summary"
   ]
  },
  {
   "cell_type": "code",
   "execution_count": 32,
   "metadata": {},
   "outputs": [],
   "source": [
    "model_key = 1"
   ]
  },
  {
   "cell_type": "code",
   "execution_count": 33,
   "metadata": {},
   "outputs": [
    {
     "name": "stdout",
     "output_type": "stream",
     "text": [
      "Summary for Model: KMeans(n_clusters=7, random_state=42)\n",
      "-------------------------------------------------------------------\n",
      "[4/4] of Amphibians have been put into Cluster Nbr. 4 : (100.0%)\n",
      "[20/20] of Birds have been put into Cluster Nbr. 2 : (100.0%)\n",
      "[8/8] of Bugs have been put into Cluster Nbr. 6 : (100.0%)\n",
      "[13/13] of Fishs have been put into Cluster Nbr. 0 : (100.0%)\n",
      "[7/10] of Invertebrates have been put into Cluster Nbr. 3 : (70.0%)\n",
      "[3/10] of Invertebrates have been put into Cluster Nbr. 6 : (30.0%)\n",
      "[37/41] of Mammals have been put into Cluster Nbr. 1 : (90.2%)\n",
      "[4/41] of Mammals have been put into Cluster Nbr. 5 : (9.8%)\n",
      "[1/5] of Reptiles have been put into Cluster Nbr. 2 : (20.0%)\n",
      "[4/5] of Reptiles have been put into Cluster Nbr. 4 : (80.0%)\n"
     ]
    }
   ],
   "source": [
    "eval_.print_model_summary(model_key)"
   ]
  },
  {
   "cell_type": "code",
   "execution_count": 34,
   "metadata": {},
   "outputs": [
    {
     "data": {
      "image/png": "[encoded data removed]",
      "text/plain": [
       "<Figure size 720x720 with 1 Axes>"
      ]
     },
     "metadata": {
      "needs_background": "light"
     },
     "output_type": "display_data"
    }
   ],
   "source": [
    "eval_.print_countplot(model_key)"
   ]
  },
  {
   "cell_type": "code",
   "execution_count": 35,
   "metadata": {
    "scrolled": true
   },
   "outputs": [
    {
     "name": "stdout",
     "output_type": "stream",
     "text": [
      "class_type_pred   0   1   2  3  4  5  6\n",
      "class_name                             \n",
      "Amphibian         0   0   0  0  4  0  0\n",
      "Bird              0   0  20  0  0  0  0\n",
      "Bug               0   0   0  0  0  0  8\n",
      "Fish             13   0   0  0  0  0  0\n",
      "Invertebrate      0   0   0  7  0  0  3\n",
      "Mammal            0  37   0  0  0  4  0\n",
      "Reptile           0   0   1  0  4  0  0\n"
     ]
    }
   ],
   "source": [
    "eval_.print_confusion_matrix(model_key)"
   ]
  },
  {
   "cell_type": "markdown",
   "metadata": {},
   "source": [
    "### Scatterplot"
   ]
  },
  {
   "cell_type": "code",
   "execution_count": 36,
   "metadata": {},
   "outputs": [
    {
     "data": {
      "image/png": "[encoded data removed]",
      "text/plain": [
       "<Figure size 720x720 with 1 Axes>"
      ]
     },
     "metadata": {
      "needs_background": "light"
     },
     "output_type": "display_data"
    }
   ],
   "source": [
    "eval_.print_scatterplot(model_key)"
   ]
  },
  {
   "cell_type": "markdown",
   "metadata": {},
   "source": [
    "### Pipeline's diagram"
   ]
  },
  {
   "cell_type": "code",
   "execution_count": 37,
   "metadata": {},
   "outputs": [
    {
     "data": {
      "text/html": [
       "<style>div.sk-top-container {color: black;background-color: white;}div.sk-toggleable {background-color: white;}label.sk-toggleable__label {cursor: pointer;display: block;width: 100%;margin-bottom: 0;padding: 0.2em 0.3em;box-sizing: border-box;text-align: center;}div.sk-toggleable__content {max-height: 0;max-width: 0;overflow: hidden;text-align: left;background-color: #f0f8ff;}div.sk-toggleable__content pre {margin: 0.2em;color: black;border-radius: 0.25em;background-color: #f0f8ff;}input.sk-toggleable__control:checked~div.sk-toggleable__content {max-height: 200px;max-width: 100%;overflow: auto;}div.sk-estimator input.sk-toggleable__control:checked~label.sk-toggleable__label {background-color: #d4ebff;}div.sk-label input.sk-toggleable__control:checked~label.sk-toggleable__label {background-color: #d4ebff;}input.sk-hidden--visually {border: 0;clip: rect(1px 1px 1px 1px);clip: rect(1px, 1px, 1px, 1px);height: 1px;margin: -1px;overflow: hidden;padding: 0;position: absolute;width: 1px;}div.sk-estimator {font-family: monospace;background-color: #f0f8ff;margin: 0.25em 0.25em;border: 1px dotted black;border-radius: 0.25em;box-sizing: border-box;}div.sk-estimator:hover {background-color: #d4ebff;}div.sk-parallel-item::after {content: \"\";width: 100%;border-bottom: 1px solid gray;flex-grow: 1;}div.sk-label:hover label.sk-toggleable__label {background-color: #d4ebff;}div.sk-serial::before {content: \"\";position: absolute;border-left: 1px solid gray;box-sizing: border-box;top: 2em;bottom: 0;left: 50%;}div.sk-serial {display: flex;flex-direction: column;align-items: center;background-color: white;}div.sk-item {z-index: 1;}div.sk-parallel {display: flex;align-items: stretch;justify-content: center;background-color: white;}div.sk-parallel-item {display: flex;flex-direction: column;position: relative;background-color: white;}div.sk-parallel-item:first-child::after {align-self: flex-end;width: 50%;}div.sk-parallel-item:last-child::after {align-self: flex-start;width: 50%;}div.sk-parallel-item:only-child::after {width: 0;}div.sk-dashed-wrapped {border: 1px dashed gray;margin: 0.2em;box-sizing: border-box;padding-bottom: 0.1em;background-color: white;position: relative;}div.sk-label label {font-family: monospace;font-weight: bold;background-color: white;display: inline-block;line-height: 1.2em;}div.sk-label-container {position: relative;z-index: 2;text-align: center;}div.sk-container {display: inline-block;position: relative;}</style><div class=\"sk-top-container\"><div class=\"sk-container\"><div class=\"sk-item sk-dashed-wrapped\"><div class=\"sk-label-container\"><div class=\"sk-label sk-toggleable\"><input class=\"sk-toggleable__control sk-hidden--visually\" id=\"e22e74d1-c4f7-4893-9c69-0e6e5f1853d6\" type=\"checkbox\" ><label class=\"sk-toggleable__label\" for=\"e22e74d1-c4f7-4893-9c69-0e6e5f1853d6\">Pipeline</label><div class=\"sk-toggleable__content\"><pre>Pipeline(steps=[('preprocessing', preprocessing()),\n",
       "                ('transforming',\n",
       "                 transforming(ohe_legs=False, scaler=StandardScaler(),\n",
       "                              scaler_method='StandardScaler')),\n",
       "                ('clustering',\n",
       "                 clustering(model=KMeans(n_clusters=7, random_state=42)))])</pre></div></div></div><div class=\"sk-serial\"><div class=\"sk-item\"><div class=\"sk-estimator sk-toggleable\"><input class=\"sk-toggleable__control sk-hidden--visually\" id=\"e9773c91-7cd9-4bf6-9e37-b22eb34f43fb\" type=\"checkbox\" ><label class=\"sk-toggleable__label\" for=\"e9773c91-7cd9-4bf6-9e37-b22eb34f43fb\">preprocessing</label><div class=\"sk-toggleable__content\"><pre>preprocessing()</pre></div></div></div><div class=\"sk-item sk-dashed-wrapped\"><div class=\"sk-label-container\"><div class=\"sk-label sk-toggleable\"><input class=\"sk-toggleable__control sk-hidden--visually\" id=\"2e9f25a1-a0be-42e3-aa2d-5bc873c2187f\" type=\"checkbox\" ><label class=\"sk-toggleable__label\" for=\"2e9f25a1-a0be-42e3-aa2d-5bc873c2187f\">transforming: transforming</label><div class=\"sk-toggleable__content\"><pre>transforming(ohe_legs=False, scaler=StandardScaler(),\n",
       "             scaler_method='StandardScaler')</pre></div></div></div><div class=\"sk-parallel\"><div class=\"sk-parallel-item\"><div class=\"sk-item\"><div class=\"sk-serial\"><div class=\"sk-item\"><div class=\"sk-estimator sk-toggleable\"><input class=\"sk-toggleable__control sk-hidden--visually\" id=\"b8c88293-255b-42dc-9af5-6149c9ac5e02\" type=\"checkbox\" ><label class=\"sk-toggleable__label\" for=\"b8c88293-255b-42dc-9af5-6149c9ac5e02\">StandardScaler</label><div class=\"sk-toggleable__content\"><pre>StandardScaler()</pre></div></div></div></div></div></div></div></div><div class=\"sk-item sk-dashed-wrapped\"><div class=\"sk-label-container\"><div class=\"sk-label sk-toggleable\"><input class=\"sk-toggleable__control sk-hidden--visually\" id=\"29df426e-f0b5-4e11-bb8a-68d7810ce409\" type=\"checkbox\" ><label class=\"sk-toggleable__label\" for=\"29df426e-f0b5-4e11-bb8a-68d7810ce409\">clustering: clustering</label><div class=\"sk-toggleable__content\"><pre>clustering(model=KMeans(n_clusters=7, random_state=42))</pre></div></div></div><div class=\"sk-parallel\"><div class=\"sk-parallel-item\"><div class=\"sk-item\"><div class=\"sk-serial\"><div class=\"sk-item\"><div class=\"sk-estimator sk-toggleable\"><input class=\"sk-toggleable__control sk-hidden--visually\" id=\"7d7a5bfc-b5a8-4967-8880-69e52cf928dd\" type=\"checkbox\" ><label class=\"sk-toggleable__label\" for=\"7d7a5bfc-b5a8-4967-8880-69e52cf928dd\">KMeans</label><div class=\"sk-toggleable__content\"><pre>KMeans(n_clusters=7, random_state=42)</pre></div></div></div></div></div></div></div></div></div></div></div></div>"
      ],
      "text/plain": [
       "Pipeline(steps=[('preprocessing', preprocessing()),\n",
       "                ('transforming',\n",
       "                 transforming(ohe_legs=False, scaler=StandardScaler(),\n",
       "                              scaler_method='StandardScaler')),\n",
       "                ('clustering',\n",
       "                 clustering(model=KMeans(n_clusters=7, random_state=42)))])"
      ]
     },
     "execution_count": 37,
     "metadata": {},
     "output_type": "execute_result"
    }
   ],
   "source": [
    "set_config(display='diagram')\n",
    "eval_.predictions[model_key][7]"
   ]
  },
  {
   "cell_type": "markdown",
   "metadata": {},
   "source": [
    "## Do Mammals make eggs ?"
   ]
  },
  {
   "cell_type": "code",
   "execution_count": 38,
   "metadata": {},
   "outputs": [],
   "source": [
    "model_key = 1\n",
    "class_type = 'Mammal'\n",
    "feature = 'eggs'"
   ]
  },
  {
   "cell_type": "code",
   "execution_count": 39,
   "metadata": {},
   "outputs": [],
   "source": [
    "prediction = eval_.predictions[1][0]\n",
    "\n",
    "df = pd.concat([zoo, pd.Series(prediction, name='class_type_pred')], axis=1)\n",
    "df = pd.merge(df,eval_.classes_all,left_on='class_type',right_on='class_type')\n",
    "df['count'] = 1"
   ]
  },
  {
   "cell_type": "code",
   "execution_count": 40,
   "metadata": {},
   "outputs": [],
   "source": [
    "filterM = df['class_name'] == class_type"
   ]
  },
  {
   "cell_type": "code",
   "execution_count": 41,
   "metadata": {},
   "outputs": [],
   "source": [
    "class_type_pred,count_amount = df[filterM].groupby('class_type_pred').count().sort_values(by='count', ascending=False).reset_index().iloc[0][['class_type_pred','count']]"
   ]
  },
  {
   "cell_type": "code",
   "execution_count": 42,
   "metadata": {},
   "outputs": [],
   "source": [
    "filterClassFeat = (df['class_type_pred'] == class_type_pred) & (df[feature] == 1)"
   ]
  },
  {
   "cell_type": "code",
   "execution_count": 43,
   "metadata": {},
   "outputs": [],
   "source": [
    "count_class_type_feature = df[filterClassFeat].shape[0] if df[filterClassFeat].shape[0] > 0 else 1"
   ]
  },
  {
   "cell_type": "code",
   "execution_count": 44,
   "metadata": {},
   "outputs": [
    {
     "name": "stdout",
     "output_type": "stream",
     "text": [
      "Il Modello numero: 1 ha scoperto che il 2.70 % dei Mammal produce eggs !\n"
     ]
    }
   ],
   "source": [
    "print('Il Modello numero: {} ha scoperto che il {:.2f} % dei {} produce {} !'.format(model_key, (count_class_type_feature/count_amount)*100, class_type, feature))"
   ]
  }
 ],
 "metadata": {
  "kernelspec": {
   "display_name": "Python 3",
   "language": "python",
   "name": "python3"
  },
  "language_info": {
   "codemirror_mode": {
    "name": "ipython",
    "version": 3
   },
   "file_extension": ".py",
   "mimetype": "text/x-python",
   "name": "python",
   "nbconvert_exporter": "python",
   "pygments_lexer": "ipython3",
   "version": "3.8.5"
  }
 },
 "nbformat": 4,
 "nbformat_minor": 4
}
